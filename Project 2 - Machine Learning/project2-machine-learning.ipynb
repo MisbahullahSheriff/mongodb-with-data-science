{
 "cells": [
  {
   "cell_type": "markdown",
   "id": "020728d9-4c05-4e5c-85fd-f8c2df355056",
   "metadata": {},
   "source": [
    "## 1. Import Libraries"
   ]
  },
  {
   "cell_type": "code",
   "execution_count": 1,
   "id": "1077cb14-9598-475a-b137-b55c13dae8e3",
   "metadata": {},
   "outputs": [],
   "source": [
    "import sys\n",
    "import pandas as pd\n",
    "from pymongo import MongoClient\n",
    "from pymongo.errors import ConnectionFailure\n",
    "from sklearn.model_selection import train_test_split\n",
    "from sklearn.impute import SimpleImputer\n",
    "from sklearn.preprocessing import StandardScaler, OneHotEncoder\n",
    "from sklearn.pipeline import Pipeline\n",
    "from sklearn.compose import ColumnTransformer\n",
    "from sklearn.metrics import mean_squared_error\n",
    "from sklearn.linear_model import LinearRegression, Ridge, Lasso\n",
    "from sklearn.svm import SVR\n",
    "from sklearn.ensemble import RandomForestRegressor\n",
    "from xgboost import XGBRegressor"
   ]
  },
  {
   "cell_type": "markdown",
   "id": "dfd59156-f4cf-443c-a7bf-84ab7536d674",
   "metadata": {},
   "source": [
    "## 2. Confirm Python Executable"
   ]
  },
  {
   "cell_type": "code",
   "execution_count": 2,
   "id": "0f55c836-d176-4bcd-b926-929056f266a7",
   "metadata": {},
   "outputs": [
    {
     "data": {
      "text/plain": [
       "'C:\\\\Users\\\\Misbah\\\\Anaconda3\\\\envs\\\\demo\\\\python.exe'"
      ]
     },
     "execution_count": 2,
     "metadata": {},
     "output_type": "execute_result"
    }
   ],
   "source": [
    "sys.executable"
   ]
  },
  {
   "cell_type": "markdown",
   "id": "2137c606-2c3e-4d8f-9fb9-74dbbba39f1e",
   "metadata": {},
   "source": [
    "## 3. Connect to MongoDB"
   ]
  },
  {
   "cell_type": "code",
   "execution_count": 3,
   "id": "87122055-fbec-4d54-a57b-756ee9ad62e5",
   "metadata": {},
   "outputs": [
    {
     "name": "stdout",
     "output_type": "stream",
     "text": [
      "> Successfully connected to MongoDB!\n"
     ]
    }
   ],
   "source": [
    "try:\n",
    "\tclient = MongoClient(\"mongodb://localhost:27017/\")\n",
    "\tdb = client[\"cars\"]\n",
    "except ConnectionFailure as e:\n",
    "\tprint(f\"> Couldn't connect to MongoDB: {e}\")\n",
    "else:\n",
    "\tprint(\"> Successfully connected to MongoDB!\")\n",
    "\tdataset = db[\"car_data\"]"
   ]
  },
  {
   "cell_type": "markdown",
   "id": "148e5c30-f27d-4fcb-9e6b-1a7a32954d89",
   "metadata": {},
   "source": [
    "## 4. Read the Data from MongoDB"
   ]
  },
  {
   "cell_type": "code",
   "execution_count": 4,
   "id": "878e3f2a-2565-43a9-850b-75303e18db20",
   "metadata": {},
   "outputs": [
    {
     "data": {
      "text/html": [
       "<div>\n",
       "<style scoped>\n",
       "    .dataframe tbody tr th:only-of-type {\n",
       "        vertical-align: middle;\n",
       "    }\n",
       "\n",
       "    .dataframe tbody tr th {\n",
       "        vertical-align: top;\n",
       "    }\n",
       "\n",
       "    .dataframe thead th {\n",
       "        text-align: right;\n",
       "    }\n",
       "</style>\n",
       "<table border=\"1\" class=\"dataframe\">\n",
       "  <thead>\n",
       "    <tr style=\"text-align: right;\">\n",
       "      <th></th>\n",
       "      <th>_id</th>\n",
       "      <th>name</th>\n",
       "      <th>company</th>\n",
       "      <th>model</th>\n",
       "      <th>edition</th>\n",
       "      <th>year</th>\n",
       "      <th>owner</th>\n",
       "      <th>fuel</th>\n",
       "      <th>seller_type</th>\n",
       "      <th>transmission</th>\n",
       "      <th>km_driven</th>\n",
       "      <th>mileage_mpg</th>\n",
       "      <th>engine_cc</th>\n",
       "      <th>max_power_bhp</th>\n",
       "      <th>torque_nm</th>\n",
       "      <th>seats</th>\n",
       "      <th>selling_price</th>\n",
       "    </tr>\n",
       "  </thead>\n",
       "  <tbody>\n",
       "    <tr>\n",
       "      <th>0</th>\n",
       "      <td>66bc52f30ea15fbe31116802</td>\n",
       "      <td>Maruti Swift Dzire VDI</td>\n",
       "      <td>Maruti</td>\n",
       "      <td>Swift</td>\n",
       "      <td>Dzire VDI</td>\n",
       "      <td>2014</td>\n",
       "      <td>First</td>\n",
       "      <td>Diesel</td>\n",
       "      <td>Individual</td>\n",
       "      <td>Manual</td>\n",
       "      <td>145500</td>\n",
       "      <td>55.00</td>\n",
       "      <td>1248.0</td>\n",
       "      <td>74.00</td>\n",
       "      <td>190.000000</td>\n",
       "      <td>5.0</td>\n",
       "      <td>450000</td>\n",
       "    </tr>\n",
       "    <tr>\n",
       "      <th>1</th>\n",
       "      <td>66bc52f30ea15fbe31116803</td>\n",
       "      <td>Skoda Rapid 1.5 TDI Ambition</td>\n",
       "      <td>Skoda</td>\n",
       "      <td>Rapid</td>\n",
       "      <td>1.5 TDI Ambition</td>\n",
       "      <td>2014</td>\n",
       "      <td>Second</td>\n",
       "      <td>Diesel</td>\n",
       "      <td>Individual</td>\n",
       "      <td>Manual</td>\n",
       "      <td>120000</td>\n",
       "      <td>49.70</td>\n",
       "      <td>1498.0</td>\n",
       "      <td>103.52</td>\n",
       "      <td>250.000000</td>\n",
       "      <td>5.0</td>\n",
       "      <td>370000</td>\n",
       "    </tr>\n",
       "    <tr>\n",
       "      <th>2</th>\n",
       "      <td>66bc52f30ea15fbe31116804</td>\n",
       "      <td>Honda City 2017-2020 EXi</td>\n",
       "      <td>Honda</td>\n",
       "      <td>City</td>\n",
       "      <td>2017-2020 EXi</td>\n",
       "      <td>2006</td>\n",
       "      <td>Third</td>\n",
       "      <td>Petrol</td>\n",
       "      <td>Individual</td>\n",
       "      <td>Manual</td>\n",
       "      <td>140000</td>\n",
       "      <td>41.60</td>\n",
       "      <td>1497.0</td>\n",
       "      <td>78.00</td>\n",
       "      <td>124.544455</td>\n",
       "      <td>5.0</td>\n",
       "      <td>158000</td>\n",
       "    </tr>\n",
       "    <tr>\n",
       "      <th>3</th>\n",
       "      <td>66bc52f30ea15fbe31116805</td>\n",
       "      <td>Hyundai i20 Sportz Diesel</td>\n",
       "      <td>Hyundai</td>\n",
       "      <td>i20</td>\n",
       "      <td>Sportz Diesel</td>\n",
       "      <td>2010</td>\n",
       "      <td>First</td>\n",
       "      <td>Diesel</td>\n",
       "      <td>Individual</td>\n",
       "      <td>Manual</td>\n",
       "      <td>127000</td>\n",
       "      <td>54.06</td>\n",
       "      <td>1396.0</td>\n",
       "      <td>90.00</td>\n",
       "      <td>219.668960</td>\n",
       "      <td>5.0</td>\n",
       "      <td>225000</td>\n",
       "    </tr>\n",
       "    <tr>\n",
       "      <th>4</th>\n",
       "      <td>66bc52f30ea15fbe31116806</td>\n",
       "      <td>Maruti Swift VXI BSIII</td>\n",
       "      <td>Maruti</td>\n",
       "      <td>Swift</td>\n",
       "      <td>VXI BSIII</td>\n",
       "      <td>2007</td>\n",
       "      <td>First</td>\n",
       "      <td>Petrol</td>\n",
       "      <td>Individual</td>\n",
       "      <td>Manual</td>\n",
       "      <td>120000</td>\n",
       "      <td>37.84</td>\n",
       "      <td>1298.0</td>\n",
       "      <td>88.20</td>\n",
       "      <td>112.776475</td>\n",
       "      <td>5.0</td>\n",
       "      <td>130000</td>\n",
       "    </tr>\n",
       "  </tbody>\n",
       "</table>\n",
       "</div>"
      ],
      "text/plain": [
       "                        _id                          name  company  model  \\\n",
       "0  66bc52f30ea15fbe31116802        Maruti Swift Dzire VDI   Maruti  Swift   \n",
       "1  66bc52f30ea15fbe31116803  Skoda Rapid 1.5 TDI Ambition    Skoda  Rapid   \n",
       "2  66bc52f30ea15fbe31116804      Honda City 2017-2020 EXi    Honda   City   \n",
       "3  66bc52f30ea15fbe31116805     Hyundai i20 Sportz Diesel  Hyundai    i20   \n",
       "4  66bc52f30ea15fbe31116806        Maruti Swift VXI BSIII   Maruti  Swift   \n",
       "\n",
       "            edition  year   owner    fuel seller_type transmission  km_driven  \\\n",
       "0         Dzire VDI  2014   First  Diesel  Individual       Manual     145500   \n",
       "1  1.5 TDI Ambition  2014  Second  Diesel  Individual       Manual     120000   \n",
       "2     2017-2020 EXi  2006   Third  Petrol  Individual       Manual     140000   \n",
       "3     Sportz Diesel  2010   First  Diesel  Individual       Manual     127000   \n",
       "4         VXI BSIII  2007   First  Petrol  Individual       Manual     120000   \n",
       "\n",
       "   mileage_mpg  engine_cc  max_power_bhp   torque_nm  seats  selling_price  \n",
       "0        55.00     1248.0          74.00  190.000000    5.0         450000  \n",
       "1        49.70     1498.0         103.52  250.000000    5.0         370000  \n",
       "2        41.60     1497.0          78.00  124.544455    5.0         158000  \n",
       "3        54.06     1396.0          90.00  219.668960    5.0         225000  \n",
       "4        37.84     1298.0          88.20  112.776475    5.0         130000  "
      ]
     },
     "execution_count": 4,
     "metadata": {},
     "output_type": "execute_result"
    }
   ],
   "source": [
    "df = pd.DataFrame(dataset.find())\n",
    "df.head()"
   ]
  },
  {
   "cell_type": "markdown",
   "id": "c4fa5b52-f97b-4a58-bc20-d25c983678d4",
   "metadata": {},
   "source": [
    "## 5. Summarize the Data"
   ]
  },
  {
   "cell_type": "code",
   "execution_count": 5,
   "id": "cb69bd7a-05f9-4b70-89fa-91a9a5a11da8",
   "metadata": {},
   "outputs": [
    {
     "data": {
      "text/plain": [
       "(6926, 17)"
      ]
     },
     "execution_count": 5,
     "metadata": {},
     "output_type": "execute_result"
    }
   ],
   "source": [
    "# size of the data\n",
    "\n",
    "df.shape"
   ]
  },
  {
   "cell_type": "code",
   "execution_count": 6,
   "id": "64098563-dca8-4a7c-be35-d58c03aab9a3",
   "metadata": {},
   "outputs": [
    {
     "data": {
      "text/plain": [
       "_id               object\n",
       "name              object\n",
       "company           object\n",
       "model             object\n",
       "edition           object\n",
       "year               int64\n",
       "owner             object\n",
       "fuel              object\n",
       "seller_type       object\n",
       "transmission      object\n",
       "km_driven          int64\n",
       "mileage_mpg      float64\n",
       "engine_cc        float64\n",
       "max_power_bhp    float64\n",
       "torque_nm        float64\n",
       "seats            float64\n",
       "selling_price      int64\n",
       "dtype: object"
      ]
     },
     "execution_count": 6,
     "metadata": {},
     "output_type": "execute_result"
    }
   ],
   "source": [
    "# data types of features\n",
    "\n",
    "df.dtypes"
   ]
  },
  {
   "cell_type": "code",
   "execution_count": 7,
   "id": "13993429-626b-42b0-9642-161d9d273ad4",
   "metadata": {},
   "outputs": [
    {
     "name": "stdout",
     "output_type": "stream",
     "text": [
      "<class 'pandas.core.frame.DataFrame'>\n",
      "RangeIndex: 6926 entries, 0 to 6925\n",
      "Data columns (total 17 columns):\n",
      " #   Column         Non-Null Count  Dtype  \n",
      "---  ------         --------------  -----  \n",
      " 0   _id            6926 non-null   object \n",
      " 1   name           6926 non-null   object \n",
      " 2   company        6926 non-null   object \n",
      " 3   model          6926 non-null   object \n",
      " 4   edition        6926 non-null   object \n",
      " 5   year           6926 non-null   int64  \n",
      " 6   owner          6926 non-null   object \n",
      " 7   fuel           6926 non-null   object \n",
      " 8   seller_type    6926 non-null   object \n",
      " 9   transmission   6926 non-null   object \n",
      " 10  km_driven      6926 non-null   int64  \n",
      " 11  mileage_mpg    6718 non-null   float64\n",
      " 12  engine_cc      6718 non-null   float64\n",
      " 13  max_power_bhp  6717 non-null   float64\n",
      " 14  torque_nm      6717 non-null   float64\n",
      " 15  seats          6718 non-null   float64\n",
      " 16  selling_price  6926 non-null   int64  \n",
      "dtypes: float64(5), int64(3), object(9)\n",
      "memory usage: 920.0+ KB\n"
     ]
    }
   ],
   "source": [
    "# meta-data of dataset\n",
    "\n",
    "df.info()"
   ]
  },
  {
   "cell_type": "code",
   "execution_count": 8,
   "id": "170bb7b8-ed55-4707-a87b-02b1fc30a775",
   "metadata": {},
   "outputs": [
    {
     "data": {
      "text/html": [
       "<div>\n",
       "<style scoped>\n",
       "    .dataframe tbody tr th:only-of-type {\n",
       "        vertical-align: middle;\n",
       "    }\n",
       "\n",
       "    .dataframe tbody tr th {\n",
       "        vertical-align: top;\n",
       "    }\n",
       "\n",
       "    .dataframe thead th {\n",
       "        text-align: right;\n",
       "    }\n",
       "</style>\n",
       "<table border=\"1\" class=\"dataframe\">\n",
       "  <thead>\n",
       "    <tr style=\"text-align: right;\">\n",
       "      <th></th>\n",
       "      <th>count</th>\n",
       "      <th>pct</th>\n",
       "    </tr>\n",
       "  </thead>\n",
       "  <tbody>\n",
       "    <tr>\n",
       "      <th>max_power_bhp</th>\n",
       "      <td>209</td>\n",
       "      <td>3.02</td>\n",
       "    </tr>\n",
       "    <tr>\n",
       "      <th>torque_nm</th>\n",
       "      <td>209</td>\n",
       "      <td>3.02</td>\n",
       "    </tr>\n",
       "    <tr>\n",
       "      <th>mileage_mpg</th>\n",
       "      <td>208</td>\n",
       "      <td>3.00</td>\n",
       "    </tr>\n",
       "    <tr>\n",
       "      <th>engine_cc</th>\n",
       "      <td>208</td>\n",
       "      <td>3.00</td>\n",
       "    </tr>\n",
       "    <tr>\n",
       "      <th>seats</th>\n",
       "      <td>208</td>\n",
       "      <td>3.00</td>\n",
       "    </tr>\n",
       "  </tbody>\n",
       "</table>\n",
       "</div>"
      ],
      "text/plain": [
       "               count   pct\n",
       "max_power_bhp    209  3.02\n",
       "torque_nm        209  3.02\n",
       "mileage_mpg      208  3.00\n",
       "engine_cc        208  3.00\n",
       "seats            208  3.00"
      ]
     },
     "execution_count": 8,
     "metadata": {},
     "output_type": "execute_result"
    }
   ],
   "source": [
    "# missing values\n",
    "\n",
    "na_counts = df.isna().sum()\n",
    "na_pct = df.isna().sum().div(df.shape[0]).mul(100).round(2)\n",
    "\n",
    "na_df = (\n",
    "\tpd\n",
    "\t.concat([na_counts, na_pct], axis=1)\n",
    "\t.set_axis([\"count\", \"pct\"], axis=1)\n",
    "\t.query(\"count > 0\")\n",
    "\t.sort_values(by=\"count\", ascending=False)\n",
    ")\n",
    "\n",
    "na_df"
   ]
  },
  {
   "cell_type": "code",
   "execution_count": 9,
   "id": "b28a7197-78fa-4f9e-b6ce-7418a8fed998",
   "metadata": {},
   "outputs": [
    {
     "data": {
      "text/plain": [
       "0"
      ]
     },
     "execution_count": 9,
     "metadata": {},
     "output_type": "execute_result"
    }
   ],
   "source": [
    "# duplicate values\n",
    "\n",
    "df.duplicated().sum()"
   ]
  },
  {
   "cell_type": "code",
   "execution_count": 10,
   "id": "04cf365f-298f-485d-ab30-1618523b96de",
   "metadata": {},
   "outputs": [
    {
     "data": {
      "text/html": [
       "<div>\n",
       "<style scoped>\n",
       "    .dataframe tbody tr th:only-of-type {\n",
       "        vertical-align: middle;\n",
       "    }\n",
       "\n",
       "    .dataframe tbody tr th {\n",
       "        vertical-align: top;\n",
       "    }\n",
       "\n",
       "    .dataframe thead th {\n",
       "        text-align: right;\n",
       "    }\n",
       "</style>\n",
       "<table border=\"1\" class=\"dataframe\">\n",
       "  <thead>\n",
       "    <tr style=\"text-align: right;\">\n",
       "      <th></th>\n",
       "      <th>company</th>\n",
       "      <th>model</th>\n",
       "      <th>year</th>\n",
       "      <th>owner</th>\n",
       "      <th>fuel</th>\n",
       "      <th>seller_type</th>\n",
       "      <th>transmission</th>\n",
       "      <th>km_driven</th>\n",
       "      <th>mileage_mpg</th>\n",
       "      <th>engine_cc</th>\n",
       "      <th>max_power_bhp</th>\n",
       "      <th>torque_nm</th>\n",
       "      <th>seats</th>\n",
       "      <th>selling_price</th>\n",
       "    </tr>\n",
       "  </thead>\n",
       "  <tbody>\n",
       "    <tr>\n",
       "      <th>0</th>\n",
       "      <td>Maruti</td>\n",
       "      <td>Swift</td>\n",
       "      <td>2014</td>\n",
       "      <td>First</td>\n",
       "      <td>Diesel</td>\n",
       "      <td>Individual</td>\n",
       "      <td>Manual</td>\n",
       "      <td>145500</td>\n",
       "      <td>55.00</td>\n",
       "      <td>1248.0</td>\n",
       "      <td>74.00</td>\n",
       "      <td>190.000000</td>\n",
       "      <td>5.0</td>\n",
       "      <td>450000</td>\n",
       "    </tr>\n",
       "    <tr>\n",
       "      <th>1</th>\n",
       "      <td>Skoda</td>\n",
       "      <td>Rapid</td>\n",
       "      <td>2014</td>\n",
       "      <td>Second</td>\n",
       "      <td>Diesel</td>\n",
       "      <td>Individual</td>\n",
       "      <td>Manual</td>\n",
       "      <td>120000</td>\n",
       "      <td>49.70</td>\n",
       "      <td>1498.0</td>\n",
       "      <td>103.52</td>\n",
       "      <td>250.000000</td>\n",
       "      <td>5.0</td>\n",
       "      <td>370000</td>\n",
       "    </tr>\n",
       "    <tr>\n",
       "      <th>2</th>\n",
       "      <td>Honda</td>\n",
       "      <td>City</td>\n",
       "      <td>2006</td>\n",
       "      <td>Third</td>\n",
       "      <td>Petrol</td>\n",
       "      <td>Individual</td>\n",
       "      <td>Manual</td>\n",
       "      <td>140000</td>\n",
       "      <td>41.60</td>\n",
       "      <td>1497.0</td>\n",
       "      <td>78.00</td>\n",
       "      <td>124.544455</td>\n",
       "      <td>5.0</td>\n",
       "      <td>158000</td>\n",
       "    </tr>\n",
       "    <tr>\n",
       "      <th>3</th>\n",
       "      <td>Hyundai</td>\n",
       "      <td>i20</td>\n",
       "      <td>2010</td>\n",
       "      <td>First</td>\n",
       "      <td>Diesel</td>\n",
       "      <td>Individual</td>\n",
       "      <td>Manual</td>\n",
       "      <td>127000</td>\n",
       "      <td>54.06</td>\n",
       "      <td>1396.0</td>\n",
       "      <td>90.00</td>\n",
       "      <td>219.668960</td>\n",
       "      <td>5.0</td>\n",
       "      <td>225000</td>\n",
       "    </tr>\n",
       "    <tr>\n",
       "      <th>4</th>\n",
       "      <td>Maruti</td>\n",
       "      <td>Swift</td>\n",
       "      <td>2007</td>\n",
       "      <td>First</td>\n",
       "      <td>Petrol</td>\n",
       "      <td>Individual</td>\n",
       "      <td>Manual</td>\n",
       "      <td>120000</td>\n",
       "      <td>37.84</td>\n",
       "      <td>1298.0</td>\n",
       "      <td>88.20</td>\n",
       "      <td>112.776475</td>\n",
       "      <td>5.0</td>\n",
       "      <td>130000</td>\n",
       "    </tr>\n",
       "  </tbody>\n",
       "</table>\n",
       "</div>"
      ],
      "text/plain": [
       "   company  model  year   owner    fuel seller_type transmission  km_driven  \\\n",
       "0   Maruti  Swift  2014   First  Diesel  Individual       Manual     145500   \n",
       "1    Skoda  Rapid  2014  Second  Diesel  Individual       Manual     120000   \n",
       "2    Honda   City  2006   Third  Petrol  Individual       Manual     140000   \n",
       "3  Hyundai    i20  2010   First  Diesel  Individual       Manual     127000   \n",
       "4   Maruti  Swift  2007   First  Petrol  Individual       Manual     120000   \n",
       "\n",
       "   mileage_mpg  engine_cc  max_power_bhp   torque_nm  seats  selling_price  \n",
       "0        55.00     1248.0          74.00  190.000000    5.0         450000  \n",
       "1        49.70     1498.0         103.52  250.000000    5.0         370000  \n",
       "2        41.60     1497.0          78.00  124.544455    5.0         158000  \n",
       "3        54.06     1396.0          90.00  219.668960    5.0         225000  \n",
       "4        37.84     1298.0          88.20  112.776475    5.0         130000  "
      ]
     },
     "execution_count": 10,
     "metadata": {},
     "output_type": "execute_result"
    }
   ],
   "source": [
    "# drop irrelevant columns\n",
    "\n",
    "cols = [\"_id\", \"name\", \"edition\"]\n",
    "df.drop(columns=cols, inplace=True)\n",
    "\n",
    "df.head()"
   ]
  },
  {
   "cell_type": "markdown",
   "id": "5e978f40-5e57-4d2e-b4fd-347698ce147f",
   "metadata": {},
   "source": [
    "## 6. Split the Data"
   ]
  },
  {
   "cell_type": "code",
   "execution_count": 13,
   "id": "3952ada7-a8c5-4188-b7a2-82e34350be44",
   "metadata": {},
   "outputs": [
    {
     "name": "stdout",
     "output_type": "stream",
     "text": [
      "(6926, 13) (6926,)\n"
     ]
    }
   ],
   "source": [
    "X = df.drop(columns=\"selling_price\").assign(model=df.model.astype(str))\n",
    "y = df.selling_price.copy()\n",
    "\n",
    "print(X.shape, y.shape)"
   ]
  },
  {
   "cell_type": "code",
   "execution_count": 14,
   "id": "4270e5e6-d8c4-4a65-baa2-d3ff4c3ff80b",
   "metadata": {},
   "outputs": [
    {
     "name": "stdout",
     "output_type": "stream",
     "text": [
      "(5540, 13) (5540,)\n",
      "(1386, 13) (1386,)\n"
     ]
    }
   ],
   "source": [
    "X_train, X_test, y_train, y_test = train_test_split(X, y, test_size=0.2, random_state=42)\n",
    "\n",
    "print(X_train.shape, y_train.shape)\n",
    "print(X_test.shape, y_test.shape)"
   ]
  },
  {
   "cell_type": "markdown",
   "id": "031e11e8-e88e-4f2d-a084-c2f6cbbf97fd",
   "metadata": {},
   "source": [
    "## 7. Preprocessor"
   ]
  },
  {
   "cell_type": "code",
   "execution_count": 15,
   "id": "75ca8803-d619-481e-abec-0121b9ae7947",
   "metadata": {},
   "outputs": [],
   "source": [
    "num_cols = X_train.select_dtypes(include=\"number\").columns\n",
    "\n",
    "num_pipe = Pipeline([\n",
    "\t(\"imputer\", SimpleImputer(strategy=\"median\")),\n",
    "\t(\"scaler\", StandardScaler())\n",
    "])"
   ]
  },
  {
   "cell_type": "code",
   "execution_count": 16,
   "id": "f52362e3-bfc0-442b-885d-11dda4150c12",
   "metadata": {},
   "outputs": [],
   "source": [
    "cat_cols = [col for col in X_train.columns if col not in num_cols]\n",
    "\n",
    "cat_pipe = Pipeline([\n",
    "\t(\"imputer\", SimpleImputer(strategy=\"most_frequent\")),\n",
    "\t(\"encoder\", OneHotEncoder(handle_unknown=\"ignore\"))\n",
    "])"
   ]
  },
  {
   "cell_type": "code",
   "execution_count": 17,
   "id": "ca9d5bb5-243b-443d-8db3-598cee3aa8d6",
   "metadata": {},
   "outputs": [
    {
     "data": {
      "text/html": [
       "<style>#sk-container-id-1 {color: black;}#sk-container-id-1 pre{padding: 0;}#sk-container-id-1 div.sk-toggleable {background-color: white;}#sk-container-id-1 label.sk-toggleable__label {cursor: pointer;display: block;width: 100%;margin-bottom: 0;padding: 0.3em;box-sizing: border-box;text-align: center;}#sk-container-id-1 label.sk-toggleable__label-arrow:before {content: \"▸\";float: left;margin-right: 0.25em;color: #696969;}#sk-container-id-1 label.sk-toggleable__label-arrow:hover:before {color: black;}#sk-container-id-1 div.sk-estimator:hover label.sk-toggleable__label-arrow:before {color: black;}#sk-container-id-1 div.sk-toggleable__content {max-height: 0;max-width: 0;overflow: hidden;text-align: left;background-color: #f0f8ff;}#sk-container-id-1 div.sk-toggleable__content pre {margin: 0.2em;color: black;border-radius: 0.25em;background-color: #f0f8ff;}#sk-container-id-1 input.sk-toggleable__control:checked~div.sk-toggleable__content {max-height: 200px;max-width: 100%;overflow: auto;}#sk-container-id-1 input.sk-toggleable__control:checked~label.sk-toggleable__label-arrow:before {content: \"▾\";}#sk-container-id-1 div.sk-estimator input.sk-toggleable__control:checked~label.sk-toggleable__label {background-color: #d4ebff;}#sk-container-id-1 div.sk-label input.sk-toggleable__control:checked~label.sk-toggleable__label {background-color: #d4ebff;}#sk-container-id-1 input.sk-hidden--visually {border: 0;clip: rect(1px 1px 1px 1px);clip: rect(1px, 1px, 1px, 1px);height: 1px;margin: -1px;overflow: hidden;padding: 0;position: absolute;width: 1px;}#sk-container-id-1 div.sk-estimator {font-family: monospace;background-color: #f0f8ff;border: 1px dotted black;border-radius: 0.25em;box-sizing: border-box;margin-bottom: 0.5em;}#sk-container-id-1 div.sk-estimator:hover {background-color: #d4ebff;}#sk-container-id-1 div.sk-parallel-item::after {content: \"\";width: 100%;border-bottom: 1px solid gray;flex-grow: 1;}#sk-container-id-1 div.sk-label:hover label.sk-toggleable__label {background-color: #d4ebff;}#sk-container-id-1 div.sk-serial::before {content: \"\";position: absolute;border-left: 1px solid gray;box-sizing: border-box;top: 0;bottom: 0;left: 50%;z-index: 0;}#sk-container-id-1 div.sk-serial {display: flex;flex-direction: column;align-items: center;background-color: white;padding-right: 0.2em;padding-left: 0.2em;position: relative;}#sk-container-id-1 div.sk-item {position: relative;z-index: 1;}#sk-container-id-1 div.sk-parallel {display: flex;align-items: stretch;justify-content: center;background-color: white;position: relative;}#sk-container-id-1 div.sk-item::before, #sk-container-id-1 div.sk-parallel-item::before {content: \"\";position: absolute;border-left: 1px solid gray;box-sizing: border-box;top: 0;bottom: 0;left: 50%;z-index: -1;}#sk-container-id-1 div.sk-parallel-item {display: flex;flex-direction: column;z-index: 1;position: relative;background-color: white;}#sk-container-id-1 div.sk-parallel-item:first-child::after {align-self: flex-end;width: 50%;}#sk-container-id-1 div.sk-parallel-item:last-child::after {align-self: flex-start;width: 50%;}#sk-container-id-1 div.sk-parallel-item:only-child::after {width: 0;}#sk-container-id-1 div.sk-dashed-wrapped {border: 1px dashed gray;margin: 0 0.4em 0.5em 0.4em;box-sizing: border-box;padding-bottom: 0.4em;background-color: white;}#sk-container-id-1 div.sk-label label {font-family: monospace;font-weight: bold;display: inline-block;line-height: 1.2em;}#sk-container-id-1 div.sk-label-container {text-align: center;}#sk-container-id-1 div.sk-container {/* jupyter's `normalize.less` sets `[hidden] { display: none; }` but bootstrap.min.css set `[hidden] { display: none !important; }` so we also need the `!important` here to be able to override the default hidden behavior on the sphinx rendered scikit-learn.org. See: https://github.com/scikit-learn/scikit-learn/issues/21755 */display: inline-block !important;position: relative;}#sk-container-id-1 div.sk-text-repr-fallback {display: none;}</style><div id=\"sk-container-id-1\" class=\"sk-top-container\"><div class=\"sk-text-repr-fallback\"><pre>ColumnTransformer(transformers=[(&#x27;num&#x27;,\n",
       "                                 Pipeline(steps=[(&#x27;imputer&#x27;,\n",
       "                                                  SimpleImputer(strategy=&#x27;median&#x27;)),\n",
       "                                                 (&#x27;scaler&#x27;, StandardScaler())]),\n",
       "                                 Index([&#x27;year&#x27;, &#x27;km_driven&#x27;, &#x27;mileage_mpg&#x27;, &#x27;engine_cc&#x27;, &#x27;max_power_bhp&#x27;,\n",
       "       &#x27;torque_nm&#x27;, &#x27;seats&#x27;],\n",
       "      dtype=&#x27;object&#x27;)),\n",
       "                                (&#x27;cat&#x27;,\n",
       "                                 Pipeline(steps=[(&#x27;imputer&#x27;,\n",
       "                                                  SimpleImputer(strategy=&#x27;most_frequent&#x27;)),\n",
       "                                                 (&#x27;encoder&#x27;,\n",
       "                                                  OneHotEncoder(handle_unknown=&#x27;ignore&#x27;))]),\n",
       "                                 [&#x27;company&#x27;, &#x27;model&#x27;, &#x27;owner&#x27;, &#x27;fuel&#x27;,\n",
       "                                  &#x27;seller_type&#x27;, &#x27;transmission&#x27;])])</pre><b>In a Jupyter environment, please rerun this cell to show the HTML representation or trust the notebook. <br />On GitHub, the HTML representation is unable to render, please try loading this page with nbviewer.org.</b></div><div class=\"sk-container\" hidden><div class=\"sk-item sk-dashed-wrapped\"><div class=\"sk-label-container\"><div class=\"sk-label sk-toggleable\"><input class=\"sk-toggleable__control sk-hidden--visually\" id=\"sk-estimator-id-1\" type=\"checkbox\" ><label for=\"sk-estimator-id-1\" class=\"sk-toggleable__label sk-toggleable__label-arrow\">ColumnTransformer</label><div class=\"sk-toggleable__content\"><pre>ColumnTransformer(transformers=[(&#x27;num&#x27;,\n",
       "                                 Pipeline(steps=[(&#x27;imputer&#x27;,\n",
       "                                                  SimpleImputer(strategy=&#x27;median&#x27;)),\n",
       "                                                 (&#x27;scaler&#x27;, StandardScaler())]),\n",
       "                                 Index([&#x27;year&#x27;, &#x27;km_driven&#x27;, &#x27;mileage_mpg&#x27;, &#x27;engine_cc&#x27;, &#x27;max_power_bhp&#x27;,\n",
       "       &#x27;torque_nm&#x27;, &#x27;seats&#x27;],\n",
       "      dtype=&#x27;object&#x27;)),\n",
       "                                (&#x27;cat&#x27;,\n",
       "                                 Pipeline(steps=[(&#x27;imputer&#x27;,\n",
       "                                                  SimpleImputer(strategy=&#x27;most_frequent&#x27;)),\n",
       "                                                 (&#x27;encoder&#x27;,\n",
       "                                                  OneHotEncoder(handle_unknown=&#x27;ignore&#x27;))]),\n",
       "                                 [&#x27;company&#x27;, &#x27;model&#x27;, &#x27;owner&#x27;, &#x27;fuel&#x27;,\n",
       "                                  &#x27;seller_type&#x27;, &#x27;transmission&#x27;])])</pre></div></div></div><div class=\"sk-parallel\"><div class=\"sk-parallel-item\"><div class=\"sk-item\"><div class=\"sk-label-container\"><div class=\"sk-label sk-toggleable\"><input class=\"sk-toggleable__control sk-hidden--visually\" id=\"sk-estimator-id-2\" type=\"checkbox\" ><label for=\"sk-estimator-id-2\" class=\"sk-toggleable__label sk-toggleable__label-arrow\">num</label><div class=\"sk-toggleable__content\"><pre>Index([&#x27;year&#x27;, &#x27;km_driven&#x27;, &#x27;mileage_mpg&#x27;, &#x27;engine_cc&#x27;, &#x27;max_power_bhp&#x27;,\n",
       "       &#x27;torque_nm&#x27;, &#x27;seats&#x27;],\n",
       "      dtype=&#x27;object&#x27;)</pre></div></div></div><div class=\"sk-serial\"><div class=\"sk-item\"><div class=\"sk-serial\"><div class=\"sk-item\"><div class=\"sk-estimator sk-toggleable\"><input class=\"sk-toggleable__control sk-hidden--visually\" id=\"sk-estimator-id-3\" type=\"checkbox\" ><label for=\"sk-estimator-id-3\" class=\"sk-toggleable__label sk-toggleable__label-arrow\">SimpleImputer</label><div class=\"sk-toggleable__content\"><pre>SimpleImputer(strategy=&#x27;median&#x27;)</pre></div></div></div><div class=\"sk-item\"><div class=\"sk-estimator sk-toggleable\"><input class=\"sk-toggleable__control sk-hidden--visually\" id=\"sk-estimator-id-4\" type=\"checkbox\" ><label for=\"sk-estimator-id-4\" class=\"sk-toggleable__label sk-toggleable__label-arrow\">StandardScaler</label><div class=\"sk-toggleable__content\"><pre>StandardScaler()</pre></div></div></div></div></div></div></div></div><div class=\"sk-parallel-item\"><div class=\"sk-item\"><div class=\"sk-label-container\"><div class=\"sk-label sk-toggleable\"><input class=\"sk-toggleable__control sk-hidden--visually\" id=\"sk-estimator-id-5\" type=\"checkbox\" ><label for=\"sk-estimator-id-5\" class=\"sk-toggleable__label sk-toggleable__label-arrow\">cat</label><div class=\"sk-toggleable__content\"><pre>[&#x27;company&#x27;, &#x27;model&#x27;, &#x27;owner&#x27;, &#x27;fuel&#x27;, &#x27;seller_type&#x27;, &#x27;transmission&#x27;]</pre></div></div></div><div class=\"sk-serial\"><div class=\"sk-item\"><div class=\"sk-serial\"><div class=\"sk-item\"><div class=\"sk-estimator sk-toggleable\"><input class=\"sk-toggleable__control sk-hidden--visually\" id=\"sk-estimator-id-6\" type=\"checkbox\" ><label for=\"sk-estimator-id-6\" class=\"sk-toggleable__label sk-toggleable__label-arrow\">SimpleImputer</label><div class=\"sk-toggleable__content\"><pre>SimpleImputer(strategy=&#x27;most_frequent&#x27;)</pre></div></div></div><div class=\"sk-item\"><div class=\"sk-estimator sk-toggleable\"><input class=\"sk-toggleable__control sk-hidden--visually\" id=\"sk-estimator-id-7\" type=\"checkbox\" ><label for=\"sk-estimator-id-7\" class=\"sk-toggleable__label sk-toggleable__label-arrow\">OneHotEncoder</label><div class=\"sk-toggleable__content\"><pre>OneHotEncoder(handle_unknown=&#x27;ignore&#x27;)</pre></div></div></div></div></div></div></div></div></div></div></div></div>"
      ],
      "text/plain": [
       "ColumnTransformer(transformers=[('num',\n",
       "                                 Pipeline(steps=[('imputer',\n",
       "                                                  SimpleImputer(strategy='median')),\n",
       "                                                 ('scaler', StandardScaler())]),\n",
       "                                 Index(['year', 'km_driven', 'mileage_mpg', 'engine_cc', 'max_power_bhp',\n",
       "       'torque_nm', 'seats'],\n",
       "      dtype='object')),\n",
       "                                ('cat',\n",
       "                                 Pipeline(steps=[('imputer',\n",
       "                                                  SimpleImputer(strategy='most_frequent')),\n",
       "                                                 ('encoder',\n",
       "                                                  OneHotEncoder(handle_unknown='ignore'))]),\n",
       "                                 ['company', 'model', 'owner', 'fuel',\n",
       "                                  'seller_type', 'transmission'])])"
      ]
     },
     "execution_count": 17,
     "metadata": {},
     "output_type": "execute_result"
    }
   ],
   "source": [
    "preprocessor = ColumnTransformer(transformers=[\n",
    "\t(\"num\", num_pipe, num_cols),\n",
    "\t(\"cat\", cat_pipe, cat_cols)\n",
    "])\n",
    "\n",
    "preprocessor"
   ]
  },
  {
   "cell_type": "markdown",
   "id": "bf7b8530-e37e-46a1-8696-44f7e1139754",
   "metadata": {},
   "source": [
    "## 8. Train Models"
   ]
  },
  {
   "cell_type": "code",
   "execution_count": 18,
   "id": "58e9c877-23c3-4dff-ac9f-3e025ed5bb51",
   "metadata": {},
   "outputs": [],
   "source": [
    "algos = (\n",
    "\t(\"Linear Regression\", LinearRegression()),\n",
    "\t(\"Ridge\", Ridge()),\n",
    "\t(\"Lasso\", Lasso()),\n",
    "\t(\"SVM\", SVR()),\n",
    "\t(\"Random Forest\", RandomForestRegressor(n_estimators=20, max_depth=5)),\n",
    "\t(\"XGBOOST\", XGBRegressor(n_estimators=20, max_depth=5))\n",
    ")"
   ]
  },
  {
   "cell_type": "code",
   "execution_count": 19,
   "id": "d61760de-6e25-456c-aac4-94aacecb6dee",
   "metadata": {},
   "outputs": [
    {
     "name": "stdout",
     "output_type": "stream",
     "text": [
      "> Trained Linear Regression\n",
      "> RMSE: 228,102.70\n",
      "> Inserted data into MongoDB\n",
      "\n",
      "> Trained Ridge\n",
      "> RMSE: 223,726.20\n",
      "> Inserted data into MongoDB\n",
      "\n"
     ]
    },
    {
     "name": "stderr",
     "output_type": "stream",
     "text": [
      "C:\\Users\\Misbah\\Anaconda3\\envs\\demo\\lib\\site-packages\\sklearn\\linear_model\\_coordinate_descent.py:589: ConvergenceWarning: Objective did not converge. You might want to increase the number of iterations. Duality gap: 44643790656426.3, tolerance: 156637042780.21814\n",
      "  model = cd_fast.sparse_enet_coordinate_descent(\n"
     ]
    },
    {
     "name": "stdout",
     "output_type": "stream",
     "text": [
      "> Trained Lasso\n",
      "> RMSE: 240,498.66\n",
      "> Inserted data into MongoDB\n",
      "\n",
      "> Trained SVM\n",
      "> RMSE: 478,788.42\n",
      "> Inserted data into MongoDB\n",
      "\n",
      "> Trained Random Forest\n",
      "> RMSE: 171,400.43\n",
      "> Inserted data into MongoDB\n",
      "\n",
      "> Trained XGBOOST\n",
      "> RMSE: 142,107.63\n",
      "> Inserted data into MongoDB\n",
      "\n"
     ]
    }
   ],
   "source": [
    "for alg, reg  in algos:\n",
    "\t# setup the regressor with preprocessor\n",
    "\tmodel = Pipeline([\n",
    "\t\t(\"pre\", preprocessor),\n",
    "\t\t(\"alg\", reg)\n",
    "\t])\n",
    "\t\n",
    "\t# train the model\n",
    "\tmodel.fit(X_train, y_train)\n",
    "\tprint(f\"> Trained {alg}\")\n",
    "\n",
    "\t# evaluate the model\n",
    "\ty_pred = model.predict(X_test)\n",
    "\trmse = mean_squared_error(y_test, y_pred, squared=False)\n",
    "\tprint(f\"> RMSE: {rmse:,.2f}\")\n",
    "\n",
    "\t# insert data into MongoDB\n",
    "\tmodel_results = db[\"model_results\"]\n",
    "\tresult = {\"model\": alg, \"RMSE\": rmse}\n",
    "\tmodel_results.insert_one(result)\n",
    "\tprint(\"> Inserted data into MongoDB\")\n",
    "\t\n",
    "\tprint()"
   ]
  }
 ],
 "metadata": {
  "kernelspec": {
   "display_name": "demo",
   "language": "python",
   "name": "demo"
  },
  "language_info": {
   "codemirror_mode": {
    "name": "ipython",
    "version": 3
   },
   "file_extension": ".py",
   "mimetype": "text/x-python",
   "name": "python",
   "nbconvert_exporter": "python",
   "pygments_lexer": "ipython3",
   "version": "3.8.19"
  }
 },
 "nbformat": 4,
 "nbformat_minor": 5
}
